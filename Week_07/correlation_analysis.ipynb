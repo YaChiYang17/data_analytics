{
 "cells": [
  {
   "cell_type": "markdown",
   "id": "258b331a",
   "metadata": {},
   "source": [
    "# Correlation analysis"
   ]
  },
  {
   "cell_type": "markdown",
   "id": "fd523faf",
   "metadata": {},
   "source": [
    "## Libraries and settings"
   ]
  },
  {
   "cell_type": "code",
   "execution_count": 1,
   "id": "204d4f0c",
   "metadata": {},
   "outputs": [
    {
     "name": "stdout",
     "output_type": "stream",
     "text": [
      "Current working directory: /workspaces/data_analytics/Week_07\n"
     ]
    }
   ],
   "source": [
    "# Libraries\n",
    "import os\n",
    "import scipy.stats\n",
    "import numpy as np\n",
    "import pandas as pd\n",
    "import seaborn as sns\n",
    "import matplotlib.pyplot as plt\n",
    "from scipy.stats import chi2_contingency\n",
    "\n",
    "# seaborn graphics settings\n",
    "sns.set(color_codes=True)\n",
    "\n",
    "# Ignore warnings\n",
    "import warnings\n",
    "warnings.filterwarnings('ignore')\n",
    "\n",
    "# Show path to the current working directory\n",
    "print('Current working directory:', os.getcwd())"
   ]
  },
  {
   "cell_type": "markdown",
   "id": "b0a2b940",
   "metadata": {},
   "source": [
    "## Import the apartment data"
   ]
  },
  {
   "cell_type": "code",
   "execution_count": 2,
   "id": "323daf0c",
   "metadata": {},
   "outputs": [
    {
     "data": {
      "text/html": [
       "<div>\n",
       "<style scoped>\n",
       "    .dataframe tbody tr th:only-of-type {\n",
       "        vertical-align: middle;\n",
       "    }\n",
       "\n",
       "    .dataframe tbody tr th {\n",
       "        vertical-align: top;\n",
       "    }\n",
       "\n",
       "    .dataframe thead th {\n",
       "        text-align: right;\n",
       "    }\n",
       "</style>\n",
       "<table border=\"1\" class=\"dataframe\">\n",
       "  <thead>\n",
       "    <tr style=\"text-align: right;\">\n",
       "      <th></th>\n",
       "      <th>web-scraper-order</th>\n",
       "      <th>address_raw</th>\n",
       "      <th>lat</th>\n",
       "      <th>lon</th>\n",
       "      <th>bfs_number</th>\n",
       "      <th>bfs_name</th>\n",
       "      <th>rooms</th>\n",
       "      <th>area</th>\n",
       "      <th>luxurious</th>\n",
       "      <th>price</th>\n",
       "      <th>price_per_m2</th>\n",
       "      <th>pop_dens</th>\n",
       "      <th>frg_pct</th>\n",
       "      <th>mean_taxable_income</th>\n",
       "    </tr>\n",
       "  </thead>\n",
       "  <tbody>\n",
       "    <tr>\n",
       "      <th>0</th>\n",
       "      <td>1693998201-1</td>\n",
       "      <td>Neuhusstrasse 6, 8630 Rüti ZH, ZH</td>\n",
       "      <td>47.252171</td>\n",
       "      <td>8.845797</td>\n",
       "      <td>118</td>\n",
       "      <td>Rüti (ZH)</td>\n",
       "      <td>3.0</td>\n",
       "      <td>49</td>\n",
       "      <td>0</td>\n",
       "      <td>1441</td>\n",
       "      <td>29.41</td>\n",
       "      <td>1221.272366</td>\n",
       "      <td>24.841283</td>\n",
       "      <td>65362.04268</td>\n",
       "    </tr>\n",
       "    <tr>\n",
       "      <th>1</th>\n",
       "      <td>1693998233-172</td>\n",
       "      <td>Widacherstrasse 5, 8630 Rüti ZH, ZH</td>\n",
       "      <td>47.252087</td>\n",
       "      <td>8.854919</td>\n",
       "      <td>118</td>\n",
       "      <td>Rüti (ZH)</td>\n",
       "      <td>3.0</td>\n",
       "      <td>111</td>\n",
       "      <td>0</td>\n",
       "      <td>2600</td>\n",
       "      <td>23.42</td>\n",
       "      <td>1221.272366</td>\n",
       "      <td>24.841283</td>\n",
       "      <td>65362.04268</td>\n",
       "    </tr>\n",
       "    <tr>\n",
       "      <th>2</th>\n",
       "      <td>1693998256-331</td>\n",
       "      <td>Widenweg 14, 8630 Rüti ZH, ZH</td>\n",
       "      <td>47.253670</td>\n",
       "      <td>8.853993</td>\n",
       "      <td>118</td>\n",
       "      <td>Rüti (ZH)</td>\n",
       "      <td>3.0</td>\n",
       "      <td>58</td>\n",
       "      <td>0</td>\n",
       "      <td>1490</td>\n",
       "      <td>25.69</td>\n",
       "      <td>1221.272366</td>\n",
       "      <td>24.841283</td>\n",
       "      <td>65362.04268</td>\n",
       "    </tr>\n",
       "    <tr>\n",
       "      <th>3</th>\n",
       "      <td>1693998265-381</td>\n",
       "      <td>Rain 1, 8630 Rüti ZH, ZH</td>\n",
       "      <td>47.259834</td>\n",
       "      <td>8.851705</td>\n",
       "      <td>118</td>\n",
       "      <td>Rüti (ZH)</td>\n",
       "      <td>4.0</td>\n",
       "      <td>118</td>\n",
       "      <td>0</td>\n",
       "      <td>3240</td>\n",
       "      <td>27.46</td>\n",
       "      <td>1221.272366</td>\n",
       "      <td>24.841283</td>\n",
       "      <td>65362.04268</td>\n",
       "    </tr>\n",
       "    <tr>\n",
       "      <th>4</th>\n",
       "      <td>1693998276-419</td>\n",
       "      <td>Bachtelstrasse 24b, 8630 Rüti ZH, ZH</td>\n",
       "      <td>47.266113</td>\n",
       "      <td>8.866872</td>\n",
       "      <td>118</td>\n",
       "      <td>Rüti (ZH)</td>\n",
       "      <td>3.0</td>\n",
       "      <td>66</td>\n",
       "      <td>0</td>\n",
       "      <td>1450</td>\n",
       "      <td>21.97</td>\n",
       "      <td>1221.272366</td>\n",
       "      <td>24.841283</td>\n",
       "      <td>65362.04268</td>\n",
       "    </tr>\n",
       "  </tbody>\n",
       "</table>\n",
       "</div>"
      ],
      "text/plain": [
       "  web-scraper-order                           address_raw        lat  \\\n",
       "0      1693998201-1     Neuhusstrasse 6, 8630 Rüti ZH, ZH  47.252171   \n",
       "1    1693998233-172   Widacherstrasse 5, 8630 Rüti ZH, ZH  47.252087   \n",
       "2    1693998256-331         Widenweg 14, 8630 Rüti ZH, ZH  47.253670   \n",
       "3    1693998265-381              Rain 1, 8630 Rüti ZH, ZH  47.259834   \n",
       "4    1693998276-419  Bachtelstrasse 24b, 8630 Rüti ZH, ZH  47.266113   \n",
       "\n",
       "        lon  bfs_number   bfs_name  rooms  area  luxurious  price  \\\n",
       "0  8.845797         118  Rüti (ZH)    3.0    49          0   1441   \n",
       "1  8.854919         118  Rüti (ZH)    3.0   111          0   2600   \n",
       "2  8.853993         118  Rüti (ZH)    3.0    58          0   1490   \n",
       "3  8.851705         118  Rüti (ZH)    4.0   118          0   3240   \n",
       "4  8.866872         118  Rüti (ZH)    3.0    66          0   1450   \n",
       "\n",
       "   price_per_m2     pop_dens    frg_pct  mean_taxable_income  \n",
       "0         29.41  1221.272366  24.841283          65362.04268  \n",
       "1         23.42  1221.272366  24.841283          65362.04268  \n",
       "2         25.69  1221.272366  24.841283          65362.04268  \n",
       "3         27.46  1221.272366  24.841283          65362.04268  \n",
       "4         21.97  1221.272366  24.841283          65362.04268  "
      ]
     },
     "execution_count": 2,
     "metadata": {},
     "output_type": "execute_result"
    }
   ],
   "source": [
    "# Define columns\n",
    "columns = ['web-scraper-order',\n",
    "            'address_raw',\n",
    "            'lat',\n",
    "            'lon',\n",
    "            'bfs_number',\n",
    "            'bfs_name',\n",
    "            'rooms', \n",
    "            'area', \n",
    "            'luxurious', \n",
    "            'price', \n",
    "            'price_per_m2',\n",
    "            'pop_dens',\n",
    "            'frg_pct',\n",
    "            'mean_taxable_income']\n",
    "\n",
    "# Read and select variables\n",
    "df_orig = pd.read_csv(\"apartments_data_enriched_cleaned.csv\", sep=\";\")[columns]\n",
    "\n",
    "# Remove missing values\n",
    "df = df_orig.dropna()\n",
    "df.head(5)\n",
    "\n",
    "# Remove duplicates\n",
    "df = df.drop_duplicates()\n",
    "df.head(5)"
   ]
  },
  {
   "cell_type": "markdown",
   "id": "da21888c",
   "metadata": {},
   "source": [
    "## Scatterplot-matrix"
   ]
  },
  {
   "cell_type": "code",
   "execution_count": null,
   "id": "154d48c2",
   "metadata": {},
   "outputs": [],
   "source": [
    "sns.set(style=\"ticks\", font_scale=0.8)\n",
    "g = sns.PairGrid(df[['rooms',\n",
    "                     'area',\n",
    "                     'price',\n",
    "                     'price_per_m2',\n",
    "                     'pop_dens',\n",
    "                     'frg_pct',\n",
    "                     'mean_taxable_income']], \n",
    "                 height=0.9, \n",
    "                 aspect=1)\n",
    "g.map_upper(sns.scatterplot,color='darkgreen', s=8)\n",
    "g.map_lower(sns.scatterplot, color='darkgreen', s=8)\n",
    "g.map_diag(plt.hist, color='brown')"
   ]
  },
  {
   "cell_type": "markdown",
   "id": "f38d9005",
   "metadata": {},
   "source": [
    "## Scatterplots and Pearson correlation of selected variables"
   ]
  },
  {
   "cell_type": "markdown",
   "id": "97a8184a",
   "metadata": {},
   "source": [
    "### Scatterplot price versus area"
   ]
  },
  {
   "cell_type": "code",
   "execution_count": null,
   "id": "31ed5ca6",
   "metadata": {},
   "outputs": [],
   "source": [
    "# Scatterplot\n",
    "plt.figure(figsize=(7,4))\n",
    "plt.plot(df['area'], \n",
    "         df['price'], \n",
    "         'o', \n",
    "         markersize=3.5,\n",
    "         color=\"green\")\n",
    "\n",
    "# Add title and axes labels\n",
    "plt.title('Scatterplot price versus area', fontsize=12)\n",
    "plt.ylabel('price (CHF)', fontsize=12)\n",
    "plt.xlabel('area (m2)', fontsize=12)\n",
    "\n",
    "# Set fontsize of tick labels\n",
    "plt.xticks(fontsize = 10)\n",
    "plt.yticks(fontsize = 10)\n",
    "\n",
    "plt.show()"
   ]
  },
  {
   "cell_type": "markdown",
   "id": "f8dc6404",
   "metadata": {},
   "source": [
    "### Pearson correlation price versus area"
   ]
  },
  {
   "cell_type": "code",
   "execution_count": null,
   "id": "a504fb87",
   "metadata": {},
   "outputs": [],
   "source": [
    "# Perform Persons correlation\n",
    "res = scipy.stats.pearsonr(df['area'], df['price'])\n",
    "\n",
    "# Print result\n",
    "print(f'Persons correlation coefficient (r): {res[0]:.4f}')\n",
    "print(f'p-value: {res[1]:.4f}')"
   ]
  },
  {
   "cell_type": "markdown",
   "id": "3a367ff1",
   "metadata": {},
   "source": [
    "### Scatterplot price_per_m2 versus area"
   ]
  },
  {
   "cell_type": "code",
   "execution_count": null,
   "id": "55d8d3d7",
   "metadata": {},
   "outputs": [],
   "source": [
    "# Scatterplot\n",
    "plt.figure(figsize=(7,4))\n",
    "plt.plot(df['area'], \n",
    "         df['price_per_m2'], \n",
    "         'o', \n",
    "         markersize=3.5,\n",
    "         color=\"green\")\n",
    "\n",
    "# Add title and axes labels\n",
    "plt.title('Scatterplot price_per_m2 versus area', fontsize=12)\n",
    "plt.ylabel('price per m2 (CHF)', fontsize=12)\n",
    "plt.xlabel('area (m2)', fontsize=12)\n",
    "\n",
    "# Set fontsize of tick labels\n",
    "plt.xticks(fontsize = 10)\n",
    "plt.yticks(fontsize = 10)\n",
    "\n",
    "plt.show()"
   ]
  },
  {
   "cell_type": "markdown",
   "id": "f9d9a02c",
   "metadata": {},
   "source": [
    "### Pearson correlation price_per_m2 versus area"
   ]
  },
  {
   "cell_type": "code",
   "execution_count": null,
   "id": "b1d614f2",
   "metadata": {},
   "outputs": [],
   "source": [
    "# Perform Persons correlation\n",
    "res = scipy.stats.pearsonr(df['area'], df['price_per_m2'])\n",
    "\n",
    "# Print result\n",
    "print(f'Persons correlation coefficient (r): {res[0]:.4f}')\n",
    "print(f'p-value: {res[1]:.4f}')"
   ]
  },
  {
   "cell_type": "markdown",
   "id": "cee9eee4",
   "metadata": {},
   "source": [
    "### Log-transform price_per_m2 and area to make the relationship linear"
   ]
  },
  {
   "cell_type": "code",
   "execution_count": null,
   "id": "bf3f6a29",
   "metadata": {},
   "outputs": [],
   "source": [
    "# Transform values of price_per_m2 to make it linear\n",
    "df['log_price_per_m2'] = np.log2(df['price_per_m2'])\n",
    "df['log_area'] = np.log2(df['area'])\n",
    "\n",
    "# Scatterplot\n",
    "plt.figure(figsize=(7,4))\n",
    "plt.plot(df['log_area'], \n",
    "         df['log_price_per_m2'], \n",
    "         'o', \n",
    "         markersize=3.5,\n",
    "         color=\"darkred\")\n",
    "\n",
    "# Add title and axes labels\n",
    "plt.title('Scatterplot log(price per m2) versus log(area) ', fontsize=12)\n",
    "plt.ylabel('log(price per m2)', fontsize=12)\n",
    "plt.xlabel('log(area)', fontsize=12)\n",
    "\n",
    "# Set fontsize of tick labels\n",
    "plt.xticks(fontsize = 10)\n",
    "plt.yticks(fontsize = 10)\n",
    "\n",
    "plt.show()"
   ]
  },
  {
   "cell_type": "markdown",
   "id": "b046da82",
   "metadata": {},
   "source": [
    "### Pearson correlation log(price_per_m2) versus log(area)"
   ]
  },
  {
   "cell_type": "code",
   "execution_count": null,
   "id": "7ab17aba",
   "metadata": {},
   "outputs": [],
   "source": [
    "# Perform Pearson's correlation\n",
    "res = scipy.stats.pearsonr(df['log_area'], df['log_price_per_m2'])\n",
    "\n",
    "# Print result\n",
    "print(f'Persons correlation coefficient (r): {res[0]:.4f}')\n",
    "print(f'p-value: {res[1]:.4f}')"
   ]
  },
  {
   "cell_type": "markdown",
   "id": "0e3b5533",
   "metadata": {},
   "source": [
    "## Correlation analysis based on car data"
   ]
  },
  {
   "cell_type": "markdown",
   "id": "fc0cd15d",
   "metadata": {},
   "source": [
    "### Import car data"
   ]
  },
  {
   "cell_type": "code",
   "execution_count": null,
   "id": "1b298cff",
   "metadata": {},
   "outputs": [],
   "source": [
    "import pandas as pd\n",
    "\n",
    "# Define columns for import\n",
    "columns = ['Offer_Id',\n",
    "          'Type',\n",
    "          'Init_Regist',\n",
    "          'Kilometer',\n",
    "          'Price_Num',\n",
    "          'PS_Num']\n",
    "\n",
    "# Read the data and show header info\n",
    "df_cars = pd.read_csv('autoscout24_data.csv', sep=\";\")[columns]\n",
    "\n",
    "# Kilometer to numeric value\n",
    "df_cars['Kilometer_Num'] = df_cars['Kilometer'].str.replace(' km', '').str.replace('\\'', '').astype('int64')\n",
    "\n",
    "# Remove original column 'Kilometer' \n",
    "df_cars = df_cars.drop(columns=['Kilometer'])\n",
    "\n",
    "# Rename columns\n",
    "df_cars = df_cars.rename(columns={'Price_Num':'Price', 'PS_Num':'PS', 'Kilometer_Num':'Kilometer'})\n",
    "print('Number of rows and columns:', df_cars.shape)\n",
    "\n",
    "# print header info\n",
    "df_cars"
   ]
  },
  {
   "cell_type": "markdown",
   "id": "c4d498c4",
   "metadata": {},
   "source": [
    "### Jupyter notebook --footer info-- (please always provide this at the end of each submitted notebook)"
   ]
  },
  {
   "cell_type": "code",
   "execution_count": null,
   "id": "56e5ab00",
   "metadata": {},
   "outputs": [],
   "source": [
    "import os\n",
    "import platform\n",
    "import socket\n",
    "from platform import python_version\n",
    "from datetime import datetime\n",
    "\n",
    "print('-----------------------------------')\n",
    "print(os.name.upper())\n",
    "print(platform.system(), '|', platform.release())\n",
    "print('Datetime:', datetime.now().strftime(\"%Y-%m-%d %H:%M:%S\"))\n",
    "print('Python Version:', python_version())\n",
    "print('-----------------------------------')"
   ]
  }
 ],
 "metadata": {
  "kernelspec": {
   "display_name": "Python 3",
   "language": "python",
   "name": "python3"
  },
  "language_info": {
   "codemirror_mode": {
    "name": "ipython",
    "version": 3
   },
   "file_extension": ".py",
   "mimetype": "text/x-python",
   "name": "python",
   "nbconvert_exporter": "python",
   "pygments_lexer": "ipython3",
   "version": "3.11.10"
  }
 },
 "nbformat": 4,
 "nbformat_minor": 5
}
